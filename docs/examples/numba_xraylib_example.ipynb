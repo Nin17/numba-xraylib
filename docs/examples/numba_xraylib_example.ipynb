{
 "cells": [
  {
   "cell_type": "markdown",
   "id": "f6b6ff92",
   "metadata": {},
   "source": [
    "# Examples"
   ]
  },
  {
   "cell_type": "markdown",
   "id": "f9a581de",
   "metadata": {},
   "source": [
    "## xraylib\n",
    "This follows the [python example in xraylib](https://github.com/tschoonj/xraylib/blob/c6beeee302e6325c3def1d23856db8334d946550/example/xrlexample5.py)"
   ]
  },
  {
   "cell_type": "code",
   "execution_count": 1,
   "id": "82373b81",
   "metadata": {},
   "outputs": [],
   "source": [
    "import xraylib\n",
    "import math\n",
    "import numpy as np\n",
    "import numba as nb\n",
    "\n",
    "import numba_xraylib"
   ]
  },
  {
   "cell_type": "code",
   "execution_count": 2,
   "id": "f13028e1",
   "metadata": {},
   "outputs": [
    {
     "name": "stdout",
     "output_type": "stream",
     "text": [
      "Example of python program using xraylib\n",
      "xraylib version: 4.2.0\n",
      "numba_xraylib version: 0.2.1\n"
     ]
    }
   ],
   "source": [
    "print(\"Example of python program using xraylib\")\n",
    "print(\"xraylib version: {}\".format(xraylib.__version__))\n",
    "print(\"numba_xraylib version: {}\".format(numba_xraylib.__version__))"
   ]
  },
  {
   "cell_type": "code",
   "execution_count": 3,
   "id": "fefeb319",
   "metadata": {},
   "outputs": [
    {
     "name": "stdout",
     "output_type": "stream",
     "text": [
      "Density of pure Al : 2.6989 g/cm3\n",
      "Ca K-alpha Fluorescence Line Energy: 3.690490571496111\n",
      "Fe partial photoionization cs of L3 at 6.0 keV: 22.444635592574553\n",
      "Zr L1 edge energy: 2.5316\n",
      "Pb Lalpha XRF production cs at 20.0 keV (jump approx): 11.414356266865491\n",
      "Pb Lalpha XRF production cs at 20.0 keV (Kissel): 11.181532140402364\n",
      "Bi M1N2 radiative rate: 0.53915\n",
      "U M3O3 Fluorescence Line Energy: 4.11\n",
      "Ca(HCO3)2 Rayleigh cs at 10.0 keV: 0.39754478321999853\n"
     ]
    }
   ],
   "source": [
    "print(\n",
    "    \"Density of pure Al : {} g/cm3\".format(\n",
    "        xraylib.ElementDensity(13)\n",
    "    )\n",
    ")\n",
    "print(\n",
    "    \"Ca K-alpha Fluorescence Line Energy: {}\".format(\n",
    "        xraylib.LineEnergy(20, xraylib.KA_LINE)\n",
    "    )\n",
    ")\n",
    "print(\n",
    "    \"Fe partial photoionization cs of L3 at 6.0 keV: {}\".format(\n",
    "        xraylib.CS_Photo_Partial(26, xraylib.L3_SHELL, 6.0)\n",
    "    )\n",
    ")\n",
    "print(\n",
    "    \"Zr L1 edge energy: {}\".format(\n",
    "        xraylib.EdgeEnergy(40, xraylib.L1_SHELL)\n",
    "    )\n",
    ")\n",
    "print(\n",
    "    \"Pb Lalpha XRF production cs at 20.0 keV (jump approx): {}\".format(\n",
    "        xraylib.CS_FluorLine(82, xraylib.LA_LINE, 20.0)\n",
    "    )\n",
    ")\n",
    "print(\n",
    "    \"Pb Lalpha XRF production cs at 20.0 keV (Kissel): {}\".format(\n",
    "        xraylib.CS_FluorLine_Kissel(82, xraylib.LA_LINE, 20.0)\n",
    "    )\n",
    ")\n",
    "print(\n",
    "    \"Bi M1N2 radiative rate: {}\".format(\n",
    "        xraylib.RadRate(83, xraylib.M1N2_LINE)\n",
    "    )\n",
    ")\n",
    "print(\n",
    "    \"U M3O3 Fluorescence Line Energy: {}\".format(\n",
    "        xraylib.LineEnergy(92, xraylib.M3O3_LINE)\n",
    "    )\n",
    ")\n",
    "print(\n",
    "    \"Ca(HCO3)2 Rayleigh cs at 10.0 keV: {}\".format(\n",
    "        xraylib.CS_Rayl_CP(\"Ca(HCO3)2\", 10.0)\n",
    "    )\n",
    ")"
   ]
  },
  {
   "cell_type": "code",
   "execution_count": 4,
   "id": "f4e4c6ab",
   "metadata": {},
   "outputs": [
    {
     "name": "stdout",
     "output_type": "stream",
     "text": [
      "Density of pure Al :  2.6989 g/cm3\n",
      "Ca K-alpha Fluorescence Line Energy:  3.690490571496111\n",
      "Fe partial photoionization cs of L3 at 6.0 keV:  22.444635592574553\n",
      "Zr L1 edge energy:  2.5316\n",
      "Pb Lalpha XRF production cs at 20.0 keV (jump approx):  11.414356266865491\n",
      "Pb Lalpha XRF production cs at 20.0 keV (Kissel):  11.181532140402364\n",
      "Bi M1N2 radiative rate:  0.53915\n",
      "U M3O3 Fluorescence Line Energy:  4.11\n",
      "Ca(HCO3)2 Rayleigh cs at 10.0 keV:  0.39754478321999853\n"
     ]
    }
   ],
   "source": [
    "@nb.njit\n",
    "def func():\n",
    "    print(\n",
    "        \"Density of pure Al : \", xraylib.ElementDensity(13), \"g/cm3\"\n",
    "    )\n",
    "    print(\n",
    "        \"Ca K-alpha Fluorescence Line Energy: \",\n",
    "        xraylib.LineEnergy(20, xraylib.KA_LINE),\n",
    "    )\n",
    "    print(\n",
    "        \"Fe partial photoionization cs of L3 at 6.0 keV: \",\n",
    "        xraylib.CS_Photo_Partial(26, xraylib.L3_SHELL, 6.0),\n",
    "    )\n",
    "    print(\n",
    "        \"Zr L1 edge energy: \",\n",
    "        xraylib.EdgeEnergy(40, xraylib.L1_SHELL),\n",
    "    )\n",
    "    print(\n",
    "        \"Pb Lalpha XRF production cs at 20.0 keV (jump approx): \",\n",
    "        xraylib.CS_FluorLine(82, xraylib.LA_LINE, 20.0),\n",
    "    )\n",
    "    print(\n",
    "        \"Pb Lalpha XRF production cs at 20.0 keV (Kissel): \",\n",
    "        xraylib.CS_FluorLine_Kissel(82, xraylib.LA_LINE, 20.0),\n",
    "    )\n",
    "    print(\n",
    "        \"Bi M1N2 radiative rate: \",\n",
    "        xraylib.RadRate(83, xraylib.M1N2_LINE),\n",
    "    )\n",
    "    print(\n",
    "        \"U M3O3 Fluorescence Line Energy: \",\n",
    "        xraylib.LineEnergy(92, xraylib.M3O3_LINE),\n",
    "    )\n",
    "    print(\n",
    "        \"Ca(HCO3)2 Rayleigh cs at 10.0 keV: \",\n",
    "        xraylib.CS_Rayl_CP(\"Ca(HCO3)2\", 10.0),\n",
    "    )\n",
    "\n",
    "\n",
    "func()"
   ]
  },
  {
   "cell_type": "markdown",
   "id": "aa76995b",
   "metadata": {},
   "source": [
    "## xraylib_np"
   ]
  },
  {
   "cell_type": "markdown",
   "id": "f2446c26",
   "metadata": {},
   "source": [
    "## jit_options"
   ]
  }
 ],
 "metadata": {
  "kernelspec": {
   "display_name": "numba3.12",
   "language": "python",
   "name": "python3"
  },
  "language_info": {
   "codemirror_mode": {
    "name": "ipython",
    "version": 3
   },
   "file_extension": ".py",
   "mimetype": "text/x-python",
   "name": "python",
   "nbconvert_exporter": "python",
   "pygments_lexer": "ipython3",
   "version": "3.12.8"
  }
 },
 "nbformat": 4,
 "nbformat_minor": 5
}
